{
 "cells": [
  {
   "cell_type": "markdown",
   "metadata": {},
   "source": [
    "# Machine Learning Assignment 2\n",
    "For our second assignment for the course Machine Learning, we are predicting the status of pumps, from the competition https://www.drivendata.org/competitions/7/pump-it-up-data-mining-the-water-table/"
   ]
  },
  {
   "cell_type": "markdown",
   "metadata": {},
   "source": [
    "Current rank: top 12% in the competition"
   ]
  },
  {
   "cell_type": "markdown",
   "metadata": {},
   "source": [
    "Final Score: 0.8133\n"
   ]
  },
  {
   "cell_type": "markdown",
   "metadata": {},
   "source": [
    "Load libraries"
   ]
  },
  {
   "cell_type": "code",
   "execution_count": 1,
   "metadata": {},
   "outputs": [
    {
     "name": "stderr",
     "output_type": "stream",
     "text": [
      "/anaconda3/lib/python3.6/site-packages/h5py/__init__.py:36: FutureWarning: Conversion of the second argument of issubdtype from `float` to `np.floating` is deprecated. In future, it will be treated as `np.float64 == np.dtype(float).type`.\n",
      "  from ._conv import register_converters as _register_converters\n",
      "Using TensorFlow backend.\n",
      "/anaconda3/lib/python3.6/site-packages/sklearn/cross_validation.py:41: DeprecationWarning: This module was deprecated in version 0.18 in favor of the model_selection module into which all the refactored classes and functions are moved. Also note that the interface of the new CV iterators are different from that of this module. This module will be removed in 0.20.\n",
      "  \"This module will be removed in 0.20.\", DeprecationWarning)\n",
      "/anaconda3/lib/python3.6/site-packages/sklearn/grid_search.py:42: DeprecationWarning: This module was deprecated in version 0.18 in favor of the model_selection module into which all the refactored classes and functions are moved. This module will be removed in 0.20.\n",
      "  DeprecationWarning)\n"
     ]
    }
   ],
   "source": [
    "import pandas as pd\n",
    "import numpy as np\n",
    "from fancyimpute import KNN\n",
    "from textblob import TextBlob\n",
    "from sklearn.model_selection import cross_val_score, train_test_split, KFold\n",
    "from sklearn.grid_search import GridSearchCV\n",
    "from sklearn.pipeline import make_pipeline\n",
    "from sklearn.preprocessing import RobustScaler, MaxAbsScaler\n",
    "from sklearn.ensemble import RandomForestClassifier, ExtraTreesClassifier\n",
    "from sklearn.cross_validation import StratifiedKFold\n",
    "from sklearn.discriminant_analysis import LinearDiscriminantAnalysis\n",
    "from xgboost import XGBClassifier\n",
    "from sklearn import preprocessing\n",
    "import vapeplot\n",
    "import matplotlib.pyplot as plt\n",
    "%matplotlib inline"
   ]
  },
  {
   "cell_type": "markdown",
   "metadata": {},
   "source": [
    "Import train dataset, Y-label to predict and test dataset"
   ]
  },
  {
   "cell_type": "code",
   "execution_count": 2,
   "metadata": {},
   "outputs": [],
   "source": [
    "train = pd.read_csv('~/Documents/Modules/Term 2/Machine Learning II/Assignment 2/train.csv')\n",
    "Y = pd.read_csv('~/Documents/Modules/Term 2/Machine Learning II/Assignment 2/ylabel.csv')\n",
    "test = pd.read_csv('~/Documents/Modules/Term 2/Machine Learning II/Assignment 2/test.csv')"
   ]
  },
  {
   "cell_type": "markdown",
   "metadata": {},
   "source": [
    "First overlook of data"
   ]
  },
  {
   "cell_type": "code",
   "execution_count": 3,
   "metadata": {},
   "outputs": [
    {
     "data": {
      "text/plain": [
       "(59400, 40)"
      ]
     },
     "execution_count": 3,
     "metadata": {},
     "output_type": "execute_result"
    }
   ],
   "source": [
    "train.shape"
   ]
  },
  {
   "cell_type": "code",
   "execution_count": 4,
   "metadata": {},
   "outputs": [
    {
     "data": {
      "text/plain": [
       "(14850, 40)"
      ]
     },
     "execution_count": 4,
     "metadata": {},
     "output_type": "execute_result"
    }
   ],
   "source": [
    "test.shape"
   ]
  },
  {
   "cell_type": "markdown",
   "metadata": {},
   "source": [
    "Remove the ID column as it has no predictive power"
   ]
  },
  {
   "cell_type": "code",
   "execution_count": 5,
   "metadata": {},
   "outputs": [],
   "source": [
    "del train['id']\n",
    "del Y['id']\n",
    "test_id = test['id'] # save test id for later\n",
    "del test['id']"
   ]
  },
  {
   "cell_type": "code",
   "execution_count": 6,
   "metadata": {},
   "outputs": [
    {
     "data": {
      "text/html": [
       "<div>\n",
       "<style scoped>\n",
       "    .dataframe tbody tr th:only-of-type {\n",
       "        vertical-align: middle;\n",
       "    }\n",
       "\n",
       "    .dataframe tbody tr th {\n",
       "        vertical-align: top;\n",
       "    }\n",
       "\n",
       "    .dataframe thead th {\n",
       "        text-align: right;\n",
       "    }\n",
       "</style>\n",
       "<table border=\"1\" class=\"dataframe\">\n",
       "  <thead>\n",
       "    <tr style=\"text-align: right;\">\n",
       "      <th></th>\n",
       "      <th>amount_tsh</th>\n",
       "      <th>date_recorded</th>\n",
       "      <th>funder</th>\n",
       "      <th>gps_height</th>\n",
       "      <th>installer</th>\n",
       "      <th>longitude</th>\n",
       "      <th>latitude</th>\n",
       "      <th>wpt_name</th>\n",
       "      <th>num_private</th>\n",
       "      <th>basin</th>\n",
       "      <th>...</th>\n",
       "      <th>payment_type</th>\n",
       "      <th>water_quality</th>\n",
       "      <th>quality_group</th>\n",
       "      <th>quantity</th>\n",
       "      <th>quantity_group</th>\n",
       "      <th>source</th>\n",
       "      <th>source_type</th>\n",
       "      <th>source_class</th>\n",
       "      <th>waterpoint_type</th>\n",
       "      <th>waterpoint_type_group</th>\n",
       "    </tr>\n",
       "  </thead>\n",
       "  <tbody>\n",
       "    <tr>\n",
       "      <th>0</th>\n",
       "      <td>6000.0</td>\n",
       "      <td>2011-03-14</td>\n",
       "      <td>Roman</td>\n",
       "      <td>1390</td>\n",
       "      <td>Roman</td>\n",
       "      <td>34.938093</td>\n",
       "      <td>-9.856322</td>\n",
       "      <td>none</td>\n",
       "      <td>0</td>\n",
       "      <td>Lake Nyasa</td>\n",
       "      <td>...</td>\n",
       "      <td>annually</td>\n",
       "      <td>soft</td>\n",
       "      <td>good</td>\n",
       "      <td>enough</td>\n",
       "      <td>enough</td>\n",
       "      <td>spring</td>\n",
       "      <td>spring</td>\n",
       "      <td>groundwater</td>\n",
       "      <td>communal standpipe</td>\n",
       "      <td>communal standpipe</td>\n",
       "    </tr>\n",
       "    <tr>\n",
       "      <th>1</th>\n",
       "      <td>0.0</td>\n",
       "      <td>2013-03-06</td>\n",
       "      <td>Grumeti</td>\n",
       "      <td>1399</td>\n",
       "      <td>GRUMETI</td>\n",
       "      <td>34.698766</td>\n",
       "      <td>-2.147466</td>\n",
       "      <td>Zahanati</td>\n",
       "      <td>0</td>\n",
       "      <td>Lake Victoria</td>\n",
       "      <td>...</td>\n",
       "      <td>never pay</td>\n",
       "      <td>soft</td>\n",
       "      <td>good</td>\n",
       "      <td>insufficient</td>\n",
       "      <td>insufficient</td>\n",
       "      <td>rainwater harvesting</td>\n",
       "      <td>rainwater harvesting</td>\n",
       "      <td>surface</td>\n",
       "      <td>communal standpipe</td>\n",
       "      <td>communal standpipe</td>\n",
       "    </tr>\n",
       "    <tr>\n",
       "      <th>2</th>\n",
       "      <td>25.0</td>\n",
       "      <td>2013-02-25</td>\n",
       "      <td>Lottery Club</td>\n",
       "      <td>686</td>\n",
       "      <td>World vision</td>\n",
       "      <td>37.460664</td>\n",
       "      <td>-3.821329</td>\n",
       "      <td>Kwa Mahundi</td>\n",
       "      <td>0</td>\n",
       "      <td>Pangani</td>\n",
       "      <td>...</td>\n",
       "      <td>per bucket</td>\n",
       "      <td>soft</td>\n",
       "      <td>good</td>\n",
       "      <td>enough</td>\n",
       "      <td>enough</td>\n",
       "      <td>dam</td>\n",
       "      <td>dam</td>\n",
       "      <td>surface</td>\n",
       "      <td>communal standpipe multiple</td>\n",
       "      <td>communal standpipe</td>\n",
       "    </tr>\n",
       "    <tr>\n",
       "      <th>3</th>\n",
       "      <td>0.0</td>\n",
       "      <td>2013-01-28</td>\n",
       "      <td>Unicef</td>\n",
       "      <td>263</td>\n",
       "      <td>UNICEF</td>\n",
       "      <td>38.486161</td>\n",
       "      <td>-11.155298</td>\n",
       "      <td>Zahanati Ya Nanyumbu</td>\n",
       "      <td>0</td>\n",
       "      <td>Ruvuma / Southern Coast</td>\n",
       "      <td>...</td>\n",
       "      <td>never pay</td>\n",
       "      <td>soft</td>\n",
       "      <td>good</td>\n",
       "      <td>dry</td>\n",
       "      <td>dry</td>\n",
       "      <td>machine dbh</td>\n",
       "      <td>borehole</td>\n",
       "      <td>groundwater</td>\n",
       "      <td>communal standpipe multiple</td>\n",
       "      <td>communal standpipe</td>\n",
       "    </tr>\n",
       "    <tr>\n",
       "      <th>4</th>\n",
       "      <td>0.0</td>\n",
       "      <td>2011-07-13</td>\n",
       "      <td>Action In A</td>\n",
       "      <td>0</td>\n",
       "      <td>Artisan</td>\n",
       "      <td>31.130847</td>\n",
       "      <td>-1.825359</td>\n",
       "      <td>Shuleni</td>\n",
       "      <td>0</td>\n",
       "      <td>Lake Victoria</td>\n",
       "      <td>...</td>\n",
       "      <td>never pay</td>\n",
       "      <td>soft</td>\n",
       "      <td>good</td>\n",
       "      <td>seasonal</td>\n",
       "      <td>seasonal</td>\n",
       "      <td>rainwater harvesting</td>\n",
       "      <td>rainwater harvesting</td>\n",
       "      <td>surface</td>\n",
       "      <td>communal standpipe</td>\n",
       "      <td>communal standpipe</td>\n",
       "    </tr>\n",
       "  </tbody>\n",
       "</table>\n",
       "<p>5 rows × 39 columns</p>\n",
       "</div>"
      ],
      "text/plain": [
       "   amount_tsh date_recorded        funder  gps_height     installer  \\\n",
       "0      6000.0    2011-03-14         Roman        1390         Roman   \n",
       "1         0.0    2013-03-06       Grumeti        1399       GRUMETI   \n",
       "2        25.0    2013-02-25  Lottery Club         686  World vision   \n",
       "3         0.0    2013-01-28        Unicef         263        UNICEF   \n",
       "4         0.0    2011-07-13   Action In A           0       Artisan   \n",
       "\n",
       "   longitude   latitude              wpt_name  num_private  \\\n",
       "0  34.938093  -9.856322                  none            0   \n",
       "1  34.698766  -2.147466              Zahanati            0   \n",
       "2  37.460664  -3.821329           Kwa Mahundi            0   \n",
       "3  38.486161 -11.155298  Zahanati Ya Nanyumbu            0   \n",
       "4  31.130847  -1.825359               Shuleni            0   \n",
       "\n",
       "                     basin          ...          payment_type water_quality  \\\n",
       "0               Lake Nyasa          ...              annually          soft   \n",
       "1            Lake Victoria          ...             never pay          soft   \n",
       "2                  Pangani          ...            per bucket          soft   \n",
       "3  Ruvuma / Southern Coast          ...             never pay          soft   \n",
       "4            Lake Victoria          ...             never pay          soft   \n",
       "\n",
       "   quality_group      quantity quantity_group                source  \\\n",
       "0           good        enough         enough                spring   \n",
       "1           good  insufficient   insufficient  rainwater harvesting   \n",
       "2           good        enough         enough                   dam   \n",
       "3           good           dry            dry           machine dbh   \n",
       "4           good      seasonal       seasonal  rainwater harvesting   \n",
       "\n",
       "            source_type source_class              waterpoint_type  \\\n",
       "0                spring  groundwater           communal standpipe   \n",
       "1  rainwater harvesting      surface           communal standpipe   \n",
       "2                   dam      surface  communal standpipe multiple   \n",
       "3              borehole  groundwater  communal standpipe multiple   \n",
       "4  rainwater harvesting      surface           communal standpipe   \n",
       "\n",
       "  waterpoint_type_group  \n",
       "0    communal standpipe  \n",
       "1    communal standpipe  \n",
       "2    communal standpipe  \n",
       "3    communal standpipe  \n",
       "4    communal standpipe  \n",
       "\n",
       "[5 rows x 39 columns]"
      ]
     },
     "execution_count": 6,
     "metadata": {},
     "output_type": "execute_result"
    }
   ],
   "source": [
    "train.head()"
   ]
  },
  {
   "cell_type": "markdown",
   "metadata": {},
   "source": []
  },
  {
   "cell_type": "markdown",
   "metadata": {},
   "source": [
    "Joining data for cleaning"
   ]
  },
  {
   "cell_type": "code",
   "execution_count": 7,
   "metadata": {},
   "outputs": [],
   "source": [
    "frames = [train, test]\n",
    "\n",
    "df = pd.concat(frames)"
   ]
  },
  {
   "cell_type": "code",
   "execution_count": 8,
   "metadata": {},
   "outputs": [],
   "source": [
    "# resetting indices \n",
    "df.index = np.arange(df.shape[0])"
   ]
  },
  {
   "cell_type": "code",
   "execution_count": 9,
   "metadata": {},
   "outputs": [
    {
     "data": {
      "text/plain": [
       "(74250, 39)"
      ]
     },
     "execution_count": 9,
     "metadata": {},
     "output_type": "execute_result"
    }
   ],
   "source": [
    "df.shape"
   ]
  },
  {
   "cell_type": "markdown",
   "metadata": {},
   "source": [
    "# Feature Engineering"
   ]
  },
  {
   "cell_type": "markdown",
   "metadata": {},
   "source": [
    "Checking the amount of unique values in each column.. there seem to be alot!"
   ]
  },
  {
   "cell_type": "code",
   "execution_count": 10,
   "metadata": {},
   "outputs": [],
   "source": [
    "uniques = []\n",
    "for i in df.columns:\n",
    "    x = len(df[i].unique())\n",
    "    uniques.append(x)"
   ]
  },
  {
   "cell_type": "code",
   "execution_count": 11,
   "metadata": {},
   "outputs": [
    {
     "name": "stdout",
     "output_type": "stream",
     "text": [
      "[102, 369, 2141, 2456, 2411, 71870, 71869, 45684, 68, 9, 21426, 21, 27, 20, 125, 2098, 1128, 3, 1, 13, 2869, 3, 55, 18, 13, 7, 12, 5, 7, 7, 8, 6, 5, 5, 10, 7, 3, 7, 6]\n"
     ]
    }
   ],
   "source": [
    "print(uniques)"
   ]
  },
  {
   "cell_type": "markdown",
   "metadata": {},
   "source": [
    "Let's reduce a bit"
   ]
  },
  {
   "cell_type": "code",
   "execution_count": 12,
   "metadata": {},
   "outputs": [],
   "source": [
    "# gps_height, most are 0, so I will delete this column \n",
    "del df['gps_height']"
   ]
  },
  {
   "cell_type": "code",
   "execution_count": 13,
   "metadata": {},
   "outputs": [],
   "source": [
    "# delete latitude and longitude.. we already have location information\n",
    "del df['longitude']\n",
    "del df['latitude']"
   ]
  },
  {
   "cell_type": "code",
   "execution_count": 14,
   "metadata": {},
   "outputs": [],
   "source": [
    "# 10 most popular for wpt_name\n",
    "df['wpt_name'].value_counts()\n",
    "\n",
    "def wpt_name_wrangler(row):  \n",
    "    if row['wpt_name']=='none':\n",
    "        return 'none'\n",
    "    elif row['wpt_name']=='Shuleni':\n",
    "        return 'Shuleni'\n",
    "    elif row['wpt_name']=='Zahanati':\n",
    "        return 'Zahanati'\n",
    "    elif row['wpt_name']=='Msikitini':\n",
    "        return 'Msikitini'\n",
    "    elif row['wpt_name']=='Kanisani':\n",
    "        return 'Kanisani'    \n",
    "    elif row['wpt_name']=='Sokoni':\n",
    "        return 'Sokoni'\n",
    "    elif row['wpt_name']=='Bombani':\n",
    "        return 'Bombani'\n",
    "    elif row['wpt_name']=='Ofisini':\n",
    "        return 'Ofisini'\n",
    "    elif row['wpt_name']=='School':\n",
    "        return 'School'  \n",
    "    elif row['wpt_name']=='Shule Ya Msingi':\n",
    "        return 'Shule Ya Msingi'  \n",
    "    else:\n",
    "        return 'other'\n",
    "    \n",
    "df['wpt_name'] = df.apply(lambda row: wpt_name_wrangler(row), axis=1)"
   ]
  },
  {
   "cell_type": "markdown",
   "metadata": {},
   "source": [
    "Let's now investigate some features that appear to have similar values"
   ]
  },
  {
   "cell_type": "code",
   "execution_count": 15,
   "metadata": {},
   "outputs": [
    {
     "data": {
      "text/plain": [
       "Index(['amount_tsh', 'date_recorded', 'funder', 'installer', 'wpt_name',\n",
       "       'num_private', 'basin', 'subvillage', 'region', 'region_code',\n",
       "       'district_code', 'lga', 'ward', 'population', 'public_meeting',\n",
       "       'recorded_by', 'scheme_management', 'scheme_name', 'permit',\n",
       "       'construction_year', 'extraction_type', 'extraction_type_group',\n",
       "       'extraction_type_class', 'management', 'management_group', 'payment',\n",
       "       'payment_type', 'water_quality', 'quality_group', 'quantity',\n",
       "       'quantity_group', 'source', 'source_type', 'source_class',\n",
       "       'waterpoint_type', 'waterpoint_type_group'],\n",
       "      dtype='object')"
      ]
     },
     "execution_count": 15,
     "metadata": {},
     "output_type": "execute_result"
    }
   ],
   "source": [
    "df.columns"
   ]
  },
  {
   "cell_type": "code",
   "execution_count": 16,
   "metadata": {},
   "outputs": [
    {
     "name": "stdout",
     "output_type": "stream",
     "text": [
      "gravity            33263\n",
      "nira/tanira        10205\n",
      "other               8102\n",
      "submersible         7772\n",
      "swn 80              4588\n",
      "mono                3628\n",
      "india mark ii       3029\n",
      "afridev             2208\n",
      "rope pump            572\n",
      "other handpump       447\n",
      "wind-powered         152\n",
      "other motorpump      149\n",
      "india mark iii       135\n",
      "Name: extraction_type_group, dtype: int64\n",
      "gravity         33263\n",
      "handpump        20612\n",
      "other            8102\n",
      "submersible      7772\n",
      "motorpump        3777\n",
      "rope pump         572\n",
      "wind-powered      152\n",
      "Name: extraction_type_class, dtype: int64\n"
     ]
    }
   ],
   "source": [
    "#extraction_type_group and extraction_type_class\n",
    "\n",
    "print(df['extraction_type_group'].value_counts())\n",
    "print(df['extraction_type_class'].value_counts())\n",
    "\n",
    "# I will keep extraction_type_group as it contains more information\n",
    "\n",
    "del df['extraction_type_class']"
   ]
  },
  {
   "cell_type": "code",
   "execution_count": 17,
   "metadata": {},
   "outputs": [
    {
     "name": "stdout",
     "output_type": "stream",
     "text": [
      "vwc                 50624\n",
      "wug                  8108\n",
      "water board          3688\n",
      "wua                  3118\n",
      "private operator     2504\n",
      "parastatal           2229\n",
      "water authority      1123\n",
      "other                1083\n",
      "company               859\n",
      "unknown               683\n",
      "other - school        126\n",
      "trust                 105\n",
      "Name: management, dtype: int64\n",
      "user-group    65538\n",
      "commercial     4591\n",
      "parastatal     2229\n",
      "other          1209\n",
      "unknown         683\n",
      "Name: management_group, dtype: int64\n"
     ]
    }
   ],
   "source": [
    "# management and management group\n",
    "\n",
    "print(df['management'].value_counts())\n",
    "print(df['management_group'].value_counts())\n",
    "\n",
    "# maybe best to keep both here"
   ]
  },
  {
   "cell_type": "code",
   "execution_count": 18,
   "metadata": {},
   "outputs": [
    {
     "name": "stdout",
     "output_type": "stream",
     "text": [
      "never pay                31712\n",
      "pay per bucket           11266\n",
      "pay monthly              10397\n",
      "unknown                  10149\n",
      "pay when scheme fails     4842\n",
      "pay annually              4570\n",
      "other                     1314\n",
      "Name: payment, dtype: int64\n",
      "never pay     31712\n",
      "per bucket    11266\n",
      "monthly       10397\n",
      "unknown       10149\n",
      "on failure     4842\n",
      "annually       4570\n",
      "other          1314\n",
      "Name: payment_type, dtype: int64\n"
     ]
    }
   ],
   "source": [
    "# payment and payment type\n",
    "\n",
    "print(df['payment'].value_counts())\n",
    "print(df['payment_type'].value_counts())\n",
    "\n",
    "# these are the same, so I will delete payment\n",
    "\n",
    "del df['payment']"
   ]
  },
  {
   "cell_type": "code",
   "execution_count": 19,
   "metadata": {},
   "outputs": [
    {
     "name": "stdout",
     "output_type": "stream",
     "text": [
      "soft                  63505\n",
      "salty                  6082\n",
      "unknown                2345\n",
      "milky                  1005\n",
      "coloured                623\n",
      "salty abandoned         423\n",
      "fluoride                244\n",
      "fluoride abandoned       23\n",
      "Name: water_quality, dtype: int64\n",
      "good        63505\n",
      "salty        6505\n",
      "unknown      2345\n",
      "milky        1005\n",
      "colored       623\n",
      "fluoride      267\n",
      "Name: quality_group, dtype: int64\n"
     ]
    }
   ],
   "source": [
    "# water_quality and quality_group\n",
    "\n",
    "print(df['water_quality'].value_counts())\n",
    "print(df['quality_group'].value_counts())\n",
    "\n",
    "# they are the same, so here I will delete quality_group as water_quality is more detailed\n",
    "\n",
    "del df['quality_group']"
   ]
  },
  {
   "cell_type": "code",
   "execution_count": 20,
   "metadata": {},
   "outputs": [
    {
     "name": "stdout",
     "output_type": "stream",
     "text": [
      "enough          41522\n",
      "insufficient    18896\n",
      "dry              7782\n",
      "seasonal         5075\n",
      "unknown           975\n",
      "Name: quantity, dtype: int64\n",
      "enough          41522\n",
      "insufficient    18896\n",
      "dry              7782\n",
      "seasonal         5075\n",
      "unknown           975\n",
      "Name: quantity_group, dtype: int64\n"
     ]
    }
   ],
   "source": [
    "# quantitiy and quantity_group\n",
    "\n",
    "print(df['quantity'].value_counts())\n",
    "print(df['quantity_group'].value_counts())\n",
    "\n",
    "# the same, so I will delete quantity_group\n",
    "\n",
    "del df['quantity_group']"
   ]
  },
  {
   "cell_type": "code",
   "execution_count": 21,
   "metadata": {},
   "outputs": [
    {
     "name": "stdout",
     "output_type": "stream",
     "text": [
      "spring                  21216\n",
      "shallow well            21140\n",
      "machine dbh             13822\n",
      "river                   11964\n",
      "rainwater harvesting     2863\n",
      "hand dtw                 1108\n",
      "lake                      950\n",
      "dam                       840\n",
      "other                     261\n",
      "unknown                    86\n",
      "Name: source, dtype: int64\n",
      "spring                  21216\n",
      "shallow well            21140\n",
      "borehole                14930\n",
      "river/lake              12914\n",
      "rainwater harvesting     2863\n",
      "dam                       840\n",
      "other                     347\n",
      "Name: source_type, dtype: int64\n",
      "groundwater    57286\n",
      "surface        16617\n",
      "unknown          347\n",
      "Name: source_class, dtype: int64\n"
     ]
    }
   ],
   "source": [
    "# source, source_type and source_class\n",
    "\n",
    "print(df['source'].value_counts())\n",
    "print(df['source_type'].value_counts())\n",
    "print(df['source_class'].value_counts())\n",
    "\n",
    "# here I will delete source_type since source is more detailed and source_class is different\n",
    "\n",
    "del df['source_type']"
   ]
  },
  {
   "cell_type": "code",
   "execution_count": 22,
   "metadata": {},
   "outputs": [
    {
     "name": "stdout",
     "output_type": "stream",
     "text": [
      "communal standpipe             35628\n",
      "hand pump                      21884\n",
      "other                           8010\n",
      "communal standpipe multiple     7611\n",
      "improved spring                  959\n",
      "cattle trough                    150\n",
      "dam                                8\n",
      "Name: waterpoint_type, dtype: int64\n",
      "communal standpipe    43239\n",
      "hand pump             21884\n",
      "other                  8010\n",
      "improved spring         959\n",
      "cattle trough           150\n",
      "dam                       8\n",
      "Name: waterpoint_type_group, dtype: int64\n"
     ]
    }
   ],
   "source": [
    "# waterpoint_type and waterpoint_type_group\n",
    "\n",
    "print(df['waterpoint_type'].value_counts())\n",
    "print(df['waterpoint_type_group'].value_counts())\n",
    "\n",
    "# The same info, so I will delete waterpoint_type_group\n",
    "\n",
    "del df['waterpoint_type_group']"
   ]
  },
  {
   "cell_type": "markdown",
   "metadata": {},
   "source": [
    "Now, the columns look better!"
   ]
  },
  {
   "cell_type": "code",
   "execution_count": 23,
   "metadata": {},
   "outputs": [
    {
     "data": {
      "text/plain": [
       "Index(['amount_tsh', 'date_recorded', 'funder', 'installer', 'wpt_name',\n",
       "       'num_private', 'basin', 'subvillage', 'region', 'region_code',\n",
       "       'district_code', 'lga', 'ward', 'population', 'public_meeting',\n",
       "       'recorded_by', 'scheme_management', 'scheme_name', 'permit',\n",
       "       'construction_year', 'extraction_type', 'extraction_type_group',\n",
       "       'management', 'management_group', 'payment_type', 'water_quality',\n",
       "       'quantity', 'source', 'source_class', 'waterpoint_type'],\n",
       "      dtype='object')"
      ]
     },
     "execution_count": 23,
     "metadata": {},
     "output_type": "execute_result"
    }
   ],
   "source": [
    "df.columns"
   ]
  },
  {
   "cell_type": "markdown",
   "metadata": {},
   "source": [
    "I will also normalise the population column, as it appears to be skewed"
   ]
  },
  {
   "cell_type": "code",
   "execution_count": 24,
   "metadata": {},
   "outputs": [
    {
     "data": {
      "text/plain": [
       "11.7806153769686"
      ]
     },
     "execution_count": 24,
     "metadata": {},
     "output_type": "execute_result"
    }
   ],
   "source": [
    "df.population.skew()"
   ]
  },
  {
   "cell_type": "code",
   "execution_count": 25,
   "metadata": {},
   "outputs": [],
   "source": [
    "df.population = df.population.apply(lambda x: np.log10(x+1))"
   ]
  },
  {
   "cell_type": "markdown",
   "metadata": {},
   "source": [
    "# Creating a few variables"
   ]
  },
  {
   "cell_type": "markdown",
   "metadata": {},
   "source": [
    "We use the Current_date as the starting point to create two new features: operation_time of the well and the month of the last recorded status"
   ]
  },
  {
   "cell_type": "code",
   "execution_count": 26,
   "metadata": {},
   "outputs": [],
   "source": [
    "df['current_date']='2014-01-01'"
   ]
  },
  {
   "cell_type": "markdown",
   "metadata": {},
   "source": [
    "Operation_time, measures the period of the last recorded status and the current date. "
   ]
  },
  {
   "cell_type": "code",
   "execution_count": 27,
   "metadata": {},
   "outputs": [],
   "source": [
    "df['operation_time']=df.current_date.apply(pd.to_datetime)-df.date_recorded.apply(pd.to_datetime)\n",
    "\n",
    "df['operation_time']= df.operation_time.astype('timedelta64[D]').astype(int)"
   ]
  },
  {
   "cell_type": "markdown",
   "metadata": {},
   "source": [
    "Month of the last recorded status"
   ]
  },
  {
   "cell_type": "code",
   "execution_count": 28,
   "metadata": {},
   "outputs": [],
   "source": [
    "df['month']=pd.to_datetime(df.date_recorded).dt.month"
   ]
  },
  {
   "cell_type": "markdown",
   "metadata": {},
   "source": [
    "# Dealing with NA's"
   ]
  },
  {
   "cell_type": "code",
   "execution_count": 29,
   "metadata": {},
   "outputs": [
    {
     "name": "stdout",
     "output_type": "stream",
     "text": [
      "amount_tsh                   0\n",
      "date_recorded                0\n",
      "funder                    4504\n",
      "installer                 4532\n",
      "wpt_name                     0\n",
      "num_private                  0\n",
      "basin                        0\n",
      "subvillage                 470\n",
      "region                       0\n",
      "region_code                  0\n",
      "district_code                0\n",
      "lga                          0\n",
      "ward                         0\n",
      "population                   0\n",
      "public_meeting            4155\n",
      "recorded_by                  0\n",
      "scheme_management         4846\n",
      "scheme_name              35258\n",
      "permit                    3793\n",
      "construction_year            0\n",
      "extraction_type              0\n",
      "extraction_type_group        0\n",
      "management                   0\n",
      "management_group             0\n",
      "payment_type                 0\n",
      "water_quality                0\n",
      "quantity                     0\n",
      "source                       0\n",
      "source_class                 0\n",
      "waterpoint_type              0\n",
      "current_date                 0\n",
      "operation_time               0\n",
      "month                        0\n",
      "dtype: int64\n"
     ]
    }
   ],
   "source": [
    "print(df.isnull().sum())"
   ]
  },
  {
   "cell_type": "markdown",
   "metadata": {},
   "source": [
    "From this, we can see that there are NA's in columns 'funder', 'installer', 'subvillage', 'public_meeting', 'scheme_management', 'scheme_name', 'permit'. Let's look at them one by one."
   ]
  },
  {
   "cell_type": "markdown",
   "metadata": {},
   "source": [
    "FUNDER (who funded the well) \n",
    "- 3635 missing values + multiple misspelled datapoints. I will impute 'Unkown' as I think that this information has value in itself being missing. If it doesnt yield good results I will try other techniques such as KNN."
   ]
  },
  {
   "cell_type": "code",
   "execution_count": 30,
   "metadata": {},
   "outputs": [
    {
     "data": {
      "text/plain": [
       "2140"
      ]
     },
     "execution_count": 30,
     "metadata": {},
     "output_type": "execute_result"
    }
   ],
   "source": [
    "df['funder'].nunique()"
   ]
  },
  {
   "cell_type": "code",
   "execution_count": 31,
   "metadata": {},
   "outputs": [
    {
     "data": {
      "text/plain": [
       "0"
      ]
     },
     "execution_count": 31,
     "metadata": {},
     "output_type": "execute_result"
    }
   ],
   "source": [
    "df['funder'] = df['funder'].fillna('unknown')\n",
    "\n",
    "df['funder'].isnull().sum()"
   ]
  },
  {
   "cell_type": "markdown",
   "metadata": {},
   "source": [
    "Distinct value reduction - assign top 10 values and 'Other' to rest "
   ]
  },
  {
   "cell_type": "code",
   "execution_count": 32,
   "metadata": {},
   "outputs": [],
   "source": [
    "def funder_wrangler(row):  \n",
    "    '''Keep top 5 values and set the rest to 'other'''\n",
    "\n",
    "    if row['funder']=='Government Of Tanzania':\n",
    "        return 'gov'\n",
    "    elif row['funder']=='Danida':\n",
    "        return 'danida'\n",
    "    elif row['funder']=='Hesawa':\n",
    "        return 'hesawa'\n",
    "    elif row['funder']=='Rwssp':\n",
    "        return 'rwssp'\n",
    "    elif row['funder']=='World Bank':\n",
    "        return 'world_bank'   \n",
    "    elif row['funder']=='unknown':\n",
    "        return 'unknown' \n",
    "    elif row['funder']=='Kkkt':\n",
    "        return 'Kkkt'\n",
    "    elif row['funder']=='World Vision':\n",
    "        return 'World Vision'\n",
    "    elif row['funder']=='Unicef':\n",
    "        return 'Unicef'   \n",
    "    elif row['funder']=='Tasaf':\n",
    "        return 'Tasaf' \n",
    "    else:\n",
    "        return 'other'\n",
    "    \n",
    "df['funder'] = df.apply(lambda row: funder_wrangler(row), axis=1)"
   ]
  },
  {
   "cell_type": "markdown",
   "metadata": {},
   "source": [
    "We tried to correct the misspelled word with TextBlob, however it did not yield a satisfactory result, as a lot of \"correct\" abbrevations etc were corrected, so will leave it out for now"
   ]
  },
  {
   "cell_type": "code",
   "execution_count": 28,
   "metadata": {},
   "outputs": [],
   "source": [
    "# correcting misspelled with textblob \n",
    "\n",
    "# train['funder'] = train.funder.apply(lambda txt: ''.join(TextBlob(txt).correct()))"
   ]
  },
  {
   "cell_type": "markdown",
   "metadata": {},
   "source": [
    "INSTALLER (who installed the well) \n",
    "- 3655 missing values. I will handle this the same way as 'funder'"
   ]
  },
  {
   "cell_type": "code",
   "execution_count": 33,
   "metadata": {},
   "outputs": [
    {
     "data": {
      "text/plain": [
       "2410"
      ]
     },
     "execution_count": 33,
     "metadata": {},
     "output_type": "execute_result"
    }
   ],
   "source": [
    "df['installer'].nunique()"
   ]
  },
  {
   "cell_type": "code",
   "execution_count": 34,
   "metadata": {},
   "outputs": [
    {
     "data": {
      "text/plain": [
       "0"
      ]
     },
     "execution_count": 34,
     "metadata": {},
     "output_type": "execute_result"
    }
   ],
   "source": [
    "df['installer'] = df['installer'].fillna('unknown')\n",
    "\n",
    "df['installer'].isnull().sum()"
   ]
  },
  {
   "cell_type": "markdown",
   "metadata": {},
   "source": [
    "Distinct value reduction - assign top 10 values and 'Other' to rest"
   ]
  },
  {
   "cell_type": "code",
   "execution_count": 35,
   "metadata": {},
   "outputs": [],
   "source": [
    "def installer_wrangler(row):\n",
    "    if row['installer']=='DWE':\n",
    "        return 'dwe'\n",
    "    elif row['installer']=='Government':\n",
    "        return 'gov'\n",
    "    elif row['installer']=='RWE':\n",
    "        return 'rwe'\n",
    "    elif row['installer']=='Commu':\n",
    "        return 'commu'\n",
    "    elif row['installer']=='DANIDA':\n",
    "        return 'danida'\n",
    "    elif row['installer']=='unknown':\n",
    "        return 'unknown' \n",
    "    elif row['installer']=='KKKT':\n",
    "        return 'KKKT'\n",
    "    elif row['installer']=='Hesawa':\n",
    "        return 'Hesawa'\n",
    "    elif row['installer']=='0':\n",
    "        return '0'\n",
    "    elif row['installer']=='TCRS':\n",
    "        return 'TCRS' \n",
    "    else:\n",
    "        return 'other'  \n",
    "\n",
    "df['installer'] = df.apply(lambda row: installer_wrangler(row), axis=1)"
   ]
  },
  {
   "cell_type": "markdown",
   "metadata": {},
   "source": [
    "SUBVILLAGE (geographic location) \n",
    "- 371 missing values. There are no missing values for other regional information however, so I will group by region and then district mode, and take the mode for subvillage."
   ]
  },
  {
   "cell_type": "code",
   "execution_count": 36,
   "metadata": {},
   "outputs": [
    {
     "data": {
      "text/plain": [
       "21425"
      ]
     },
     "execution_count": 36,
     "metadata": {},
     "output_type": "execute_result"
    }
   ],
   "source": [
    "df['subvillage'].nunique()"
   ]
  },
  {
   "cell_type": "code",
   "execution_count": 37,
   "metadata": {},
   "outputs": [
    {
     "data": {
      "text/plain": [
       "0"
      ]
     },
     "execution_count": 37,
     "metadata": {},
     "output_type": "execute_result"
    }
   ],
   "source": [
    "# grouping by region and filling with the mode for each region\n",
    "df['subvillage'] = df.groupby(['region', 'district_code'])['subvillage'].fillna(df['subvillage'].mode()[0])\n",
    "\n",
    "df['subvillage'].isnull().sum()"
   ]
  },
  {
   "cell_type": "markdown",
   "metadata": {},
   "source": [
    "Distinct value reduction - assign top 10 values and 'Other' to rest"
   ]
  },
  {
   "cell_type": "code",
   "execution_count": 38,
   "metadata": {},
   "outputs": [],
   "source": [
    "def subvillage_wrangler(row):\n",
    "    if row['subvillage']=='Madukani':\n",
    "        return 'Madukani'\n",
    "    elif row['subvillage']=='Shuleni':\n",
    "        return 'Shuleni'\n",
    "    elif row['subvillage']=='Majengo':\n",
    "        return 'Majengo'\n",
    "    elif row['subvillage']=='Kati':\n",
    "        return 'Kati'\n",
    "    elif row['subvillage']=='Mtakuja':\n",
    "        return 'Mtakuja'\n",
    "    elif row['subvillage']=='Sokoni':\n",
    "        return 'Sokoni'\n",
    "    elif row['subvillage']=='M':\n",
    "        return 'M'\n",
    "    elif row['subvillage']=='Muungano':\n",
    "        return 'Muungano'\n",
    "    elif row['subvillage']=='Mbuyuni':\n",
    "        return 'Mbuyuni'\n",
    "    elif row['subvillage']=='Songambele':\n",
    "        return 'Songambele'\n",
    "    else:\n",
    "        return 'other'  \n",
    "\n",
    "df['subvillage'] = df.apply(lambda row: subvillage_wrangler(row), axis=1)"
   ]
  },
  {
   "cell_type": "markdown",
   "metadata": {},
   "source": [
    "PUBLIC MEETING (True/False) \n",
    "- 3334 missing values. Answer True occurs the most frequent, 91% of the answers are True. Group by funder_category and impute the mode. "
   ]
  },
  {
   "cell_type": "code",
   "execution_count": 39,
   "metadata": {
    "scrolled": true
   },
   "outputs": [
    {
     "data": {
      "text/plain": [
       "count     70095\n",
       "unique        2\n",
       "top        True\n",
       "freq      63749\n",
       "Name: public_meeting, dtype: object"
      ]
     },
     "execution_count": 39,
     "metadata": {},
     "output_type": "execute_result"
    }
   ],
   "source": [
    "df.public_meeting.describe()"
   ]
  },
  {
   "cell_type": "code",
   "execution_count": 40,
   "metadata": {},
   "outputs": [],
   "source": [
    "df['public_meeting'] = df.groupby('funder')['public_meeting'].fillna(df['public_meeting'].mode()[0])"
   ]
  },
  {
   "cell_type": "markdown",
   "metadata": {},
   "source": [
    "SCHEME MANAGEMENT (who operates the waterpoint) \n",
    "- 3877 missing values. Here I will group by region, district_code and management, and impute the mode"
   ]
  },
  {
   "cell_type": "code",
   "execution_count": 41,
   "metadata": {},
   "outputs": [
    {
     "data": {
      "text/plain": [
       "count     69404\n",
       "unique       12\n",
       "top         VWC\n",
       "freq      45917\n",
       "Name: scheme_management, dtype: object"
      ]
     },
     "execution_count": 41,
     "metadata": {},
     "output_type": "execute_result"
    }
   ],
   "source": [
    "df['scheme_management']\n",
    "df['scheme_management'].nunique()\n",
    "df['scheme_management'].describe()"
   ]
  },
  {
   "cell_type": "code",
   "execution_count": 42,
   "metadata": {},
   "outputs": [
    {
     "data": {
      "text/plain": [
       "0"
      ]
     },
     "execution_count": 42,
     "metadata": {},
     "output_type": "execute_result"
    }
   ],
   "source": [
    "df['scheme_management'] = df.groupby(['region', 'district_code', 'management'])['scheme_management'].fillna(train['scheme_management'].mode()[0])\n",
    "\n",
    "df['scheme_management'].isnull().sum()"
   ]
  },
  {
   "cell_type": "markdown",
   "metadata": {},
   "source": [
    "SCHEME NAME (who operates the waterpoint) \n",
    "- 28166 missing values. I will group by scheme management and impute the mode."
   ]
  },
  {
   "cell_type": "code",
   "execution_count": 43,
   "metadata": {},
   "outputs": [
    {
     "data": {
      "text/plain": [
       "0"
      ]
     },
     "execution_count": 43,
     "metadata": {},
     "output_type": "execute_result"
    }
   ],
   "source": [
    "df['scheme_name'] = df.groupby('scheme_management')['scheme_name'].fillna(df['scheme_name'].mode()[0])\n",
    "\n",
    "df['scheme_name'].isnull().sum()"
   ]
  },
  {
   "cell_type": "code",
   "execution_count": 44,
   "metadata": {},
   "outputs": [
    {
     "data": {
      "text/plain": [
       "2868"
      ]
     },
     "execution_count": 44,
     "metadata": {},
     "output_type": "execute_result"
    }
   ],
   "source": [
    "df['scheme_name'].nunique()"
   ]
  },
  {
   "cell_type": "markdown",
   "metadata": {},
   "source": [
    "Distinct value reduction - assign top 10 values and 'Other' to rest"
   ]
  },
  {
   "cell_type": "code",
   "execution_count": 45,
   "metadata": {},
   "outputs": [],
   "source": [
    "def scheme_name_wrangler(row):\n",
    "    if row['scheme_name']=='K':\n",
    "        return 'K'\n",
    "    elif row['scheme_name']=='None':\n",
    "        return 'None'\n",
    "    elif row['scheme_name']=='Borehole':\n",
    "        return 'Borehole'\n",
    "    elif row['scheme_name']=='Chalinze wate':\n",
    "        return 'Chalinze wate'\n",
    "    elif row['scheme_name']=='M':\n",
    "        return 'M'\n",
    "    elif row['scheme_name']=='DANIDA':\n",
    "        return 'DANIDA'\n",
    "    elif row['scheme_name']=='Government':\n",
    "        return 'Government'\n",
    "    elif row['scheme_name']=='Ngana water supplied scheme':\n",
    "        return 'Ngana water supplied scheme'\n",
    "    elif row['scheme_name']==\"wanging'ombe water supply s\":\n",
    "        return \"wanging'ombe water supply s\"\n",
    "    elif row['scheme_name']=='Bagamoyo wate':\n",
    "        return 'Bagamoyo wate'\n",
    "    else:\n",
    "        return 'other'  \n",
    "\n",
    "df['scheme_name'] = df.apply(lambda row: scheme_name_wrangler(row), axis=1)"
   ]
  },
  {
   "cell_type": "markdown",
   "metadata": {},
   "source": [
    "PERMIT (is the waterpoint is permitted) \n",
    "- 3056 missing values. I will group by funder and impute the mode, as I am assuming that only certain funders will fund a pump without a permit"
   ]
  },
  {
   "cell_type": "code",
   "execution_count": 46,
   "metadata": {},
   "outputs": [
    {
     "data": {
      "text/plain": [
       "count     70457\n",
       "unique        2\n",
       "top        True\n",
       "freq      48606\n",
       "Name: permit, dtype: object"
      ]
     },
     "execution_count": 46,
     "metadata": {},
     "output_type": "execute_result"
    }
   ],
   "source": [
    "df['permit'].describe()"
   ]
  },
  {
   "cell_type": "code",
   "execution_count": 47,
   "metadata": {},
   "outputs": [],
   "source": [
    "df['permit'] = df.groupby('funder')['permit'].fillna(df['permit'].mode()[0])"
   ]
  },
  {
   "cell_type": "markdown",
   "metadata": {},
   "source": [
    "That's it for NA imputation! "
   ]
  },
  {
   "cell_type": "code",
   "execution_count": 48,
   "metadata": {},
   "outputs": [],
   "source": [
    "# get dummies for modelling\n",
    "df_dum = pd.get_dummies(df)"
   ]
  },
  {
   "cell_type": "code",
   "execution_count": 49,
   "metadata": {},
   "outputs": [
    {
     "data": {
      "text/plain": [
       "(74250, 2789)"
      ]
     },
     "execution_count": 49,
     "metadata": {},
     "output_type": "execute_result"
    }
   ],
   "source": [
    "df_dum.shape"
   ]
  },
  {
   "cell_type": "markdown",
   "metadata": {},
   "source": [
    "Split back to train and test"
   ]
  },
  {
   "cell_type": "code",
   "execution_count": 50,
   "metadata": {},
   "outputs": [],
   "source": [
    "train_dum = df_dum[:59400]\n",
    "test_dum = df_dum[59400:]"
   ]
  },
  {
   "cell_type": "markdown",
   "metadata": {},
   "source": [
    "Splitting train set for cross-validation"
   ]
  },
  {
   "cell_type": "code",
   "execution_count": 51,
   "metadata": {},
   "outputs": [],
   "source": [
    "X_train, X_test, y_train, y_test = train_test_split(train_dum, Y, test_size=0.1, random_state=10)"
   ]
  },
  {
   "cell_type": "markdown",
   "metadata": {},
   "source": [
    "# Random Forest\n",
    "The base model will be a RandomForest with all of the varaibles "
   ]
  },
  {
   "cell_type": "code",
   "execution_count": 54,
   "metadata": {},
   "outputs": [],
   "source": [
    "# random forest classifier\n",
    "m_rf = make_pipeline(MaxAbsScaler(), RandomForestClassifier(n_estimators=1000)).fit(X_train, y_train.values.ravel())"
   ]
  },
  {
   "cell_type": "markdown",
   "metadata": {},
   "source": [
    "Confusion Matrix"
   ]
  },
  {
   "cell_type": "code",
   "execution_count": 55,
   "metadata": {},
   "outputs": [
    {
     "name": "stdout",
     "output_type": "stream",
     "text": [
      "Confusion matrix, without normalization\n",
      "[[2848  108  312]\n",
      " [ 190  155   67]\n",
      " [ 449   45 1766]]\n",
      "Normalized confusion matrix\n",
      "[[0.87 0.03 0.1 ]\n",
      " [0.46 0.38 0.16]\n",
      " [0.2  0.02 0.78]]\n"
     ]
    },
    {
     "data": {
      "image/png": "[encoded data removed]",
      "text/plain": [
       "<matplotlib.figure.Figure at 0x1a2457bfd0>"
      ]
     },
     "metadata": {},
     "output_type": "display_data"
    },
    {
     "data": {
      "image/png": "[encoded data removed]",
      "text/plain": [
       "<matplotlib.figure.Figure at 0x1a277fd128>"
      ]
     },
     "metadata": {},
     "output_type": "display_data"
    },
    {
     "name": "stdout",
     "output_type": "stream",
     "text": [
      "Test Score 0.8028619528619528\n"
     ]
    }
   ],
   "source": [
    "plt.rcParams['figure.figsize'] = (6.0, 6.0)\n",
    "\n",
    "from sklearn.metrics import confusion_matrix\n",
    "\n",
    "labels=['functional','functional needs repair','non functional']\n",
    "def plot_confusion_matrix(cm, title='Confusion matrix', cmap=plt.cm.Blues):\n",
    "    plt.imshow(cm, interpolation='nearest', cmap=cmap)\n",
    "    plt.title(title)\n",
    "    plt.colorbar(shrink=0.7)\n",
    "    tick_marks = np.arange(len(labels))\n",
    "    plt.xticks(tick_marks, labels, rotation=45, ha='right', fontsize=12)\n",
    "    plt.yticks(tick_marks, labels , fontsize=12)\n",
    "    plt.tight_layout()\n",
    "    plt.ylabel('True label', fontsize=12)\n",
    "    plt.xlabel('Predicted label', fontsize=12)\n",
    "\n",
    "\n",
    "# Compute confusion matrix\n",
    "cm = confusion_matrix(y_test, m_rf.predict(X_test))\n",
    "np.set_printoptions(precision=2)\n",
    "print('Confusion matrix, without normalization')\n",
    "print(cm)\n",
    "plt.figure()\n",
    "plot_confusion_matrix(cm)\n",
    "\n",
    "# Normalize the confusion matrix by row (i.e by the number of samples in each class)\n",
    "cm_normalized = cm.astype('float') / cm.sum(axis=1)[:, np.newaxis]\n",
    "print('Normalized confusion matrix')\n",
    "print(cm_normalized)\n",
    "plt.figure()\n",
    "plot_confusion_matrix(cm_normalized, title='Normalized confusion matrix')\n",
    "\n",
    "plt.show()\n",
    "print ('Test Score', cm.diagonal().sum()/float(cm.sum()))"
   ]
  },
  {
   "cell_type": "markdown",
   "metadata": {},
   "source": [
    "Make predictions"
   ]
  },
  {
   "cell_type": "code",
   "execution_count": 50,
   "metadata": {},
   "outputs": [],
   "source": [
    "# prediction\n",
    "rf1_preds = m_rf.predict(test_dum)"
   ]
  },
  {
   "cell_type": "code",
   "execution_count": 51,
   "metadata": {},
   "outputs": [],
   "source": [
    "# convert to CSV for submission \n",
    "RandF = pd.DataFrame(rf1_preds)\n",
    "RandF.to_csv('RF5.csv', index = False)"
   ]
  },
  {
   "cell_type": "markdown",
   "metadata": {},
   "source": [
    "# LDA "
   ]
  },
  {
   "cell_type": "markdown",
   "metadata": {},
   "source": [
    "Next we try a Linear Discriminant Analysis model, which is known to be useful when having a multi-class problem "
   ]
  },
  {
   "cell_type": "code",
   "execution_count": 72,
   "metadata": {},
   "outputs": [],
   "source": [
    "lda = LinearDiscriminantAnalysis()"
   ]
  },
  {
   "cell_type": "markdown",
   "metadata": {},
   "source": [
    "Fit the model"
   ]
  },
  {
   "cell_type": "code",
   "execution_count": null,
   "metadata": {},
   "outputs": [],
   "source": [
    "m_lda = lda.fit(X_train, y_train.values.ravel())"
   ]
  },
  {
   "cell_type": "markdown",
   "metadata": {},
   "source": [
    "Confusion matrix"
   ]
  },
  {
   "cell_type": "code",
   "execution_count": null,
   "metadata": {},
   "outputs": [],
   "source": [
    "plt.rcParams['figure.figsize'] = (6.0, 6.0)\n",
    "\n",
    "from sklearn.metrics import confusion_matrix\n",
    "\n",
    "labels=['functional','functional needs repair','non functional']\n",
    "def plot_confusion_matrix(cm, title='Confusion matrix', cmap=plt.cm.Blues):\n",
    "    plt.imshow(cm, interpolation='nearest', cmap=cmap)\n",
    "    plt.title(title)\n",
    "    plt.colorbar(shrink=0.7)\n",
    "    tick_marks = np.arange(len(labels))\n",
    "    plt.xticks(tick_marks, labels, rotation=45, ha='right', fontsize=12)\n",
    "    plt.yticks(tick_marks, labels , fontsize=12)\n",
    "    plt.tight_layout()\n",
    "    plt.ylabel('True label', fontsize=12)\n",
    "    plt.xlabel('Predicted label', fontsize=12)\n",
    "\n",
    "\n",
    "# Compute confusion matrix\n",
    "cm = confusion_matrix(y_test, m_lda.predict(X_test))\n",
    "np.set_printoptions(precision=2)\n",
    "print('Confusion matrix, without normalization')\n",
    "print(cm)\n",
    "plt.figure()\n",
    "plot_confusion_matrix(cm)\n",
    "\n",
    "# Normalize the confusion matrix by row (i.e by the number of samples in each class)\n",
    "cm_normalized = cm.astype('float') / cm.sum(axis=1)[:, np.newaxis]\n",
    "print('Normalized confusion matrix')\n",
    "print(cm_normalized)\n",
    "plt.figure()\n",
    "plot_confusion_matrix(cm_normalized, title='Normalized confusion matrix')\n",
    "\n",
    "plt.show()\n",
    "print ('Test Score', cm.diagonal().sum()/float(cm.sum()))"
   ]
  },
  {
   "cell_type": "code",
   "execution_count": null,
   "metadata": {},
   "outputs": [],
   "source": [
    "# make predictions \n",
    "lda_preds = m_lda.predict(test_dum)"
   ]
  },
  {
   "cell_type": "markdown",
   "metadata": {},
   "source": [
    "Convert to CSV"
   ]
  },
  {
   "cell_type": "code",
   "execution_count": null,
   "metadata": {},
   "outputs": [],
   "source": [
    "LDA = pd.DataFrame(lda_preds)\n",
    "LDA.to_csv(\"LDA1.csv\", index=False)"
   ]
  },
  {
   "cell_type": "markdown",
   "metadata": {},
   "source": [
    "# Extra Trees Classifier"
   ]
  },
  {
   "cell_type": "markdown",
   "metadata": {},
   "source": [
    "Extremely Randomized Trees. Skips the bootstrapping idea of Random Forest, and instead of trying to find an optimal cut-point for each one of the K randomly chosen features at each node, it selects a cut-point at random."
   ]
  },
  {
   "cell_type": "markdown",
   "metadata": {},
   "source": [
    "This model gave us the best result at 0.8133 in the competition."
   ]
  },
  {
   "cell_type": "code",
   "execution_count": 53,
   "metadata": {},
   "outputs": [],
   "source": [
    "m_etc = make_pipeline(MaxAbsScaler(), ExtraTreesClassifier(n_estimators=1000,min_samples_split=10)).fit(X_train, y_train.values.ravel())"
   ]
  },
  {
   "cell_type": "markdown",
   "metadata": {},
   "source": [
    "Confusion Matrix"
   ]
  },
  {
   "cell_type": "code",
   "execution_count": 54,
   "metadata": {},
   "outputs": [
    {
     "name": "stdout",
     "output_type": "stream",
     "text": [
      "Confusion matrix, without normalization\n",
      "[[2915   78  275]\n",
      " [ 212  142   58]\n",
      " [ 467   32 1761]]\n",
      "Normalized confusion matrix\n",
      "[[0.89 0.02 0.08]\n",
      " [0.51 0.34 0.14]\n",
      " [0.21 0.01 0.78]]\n"
     ]
    },
    {
     "data": {
      "image/png": "[encoded data removed]",
      "text/plain": [
       "<matplotlib.figure.Figure at 0x1a20956b38>"
      ]
     },
     "metadata": {},
     "output_type": "display_data"
    },
    {
     "data": {
      "image/png": "[encoded data removed]",
      "text/plain": [
       "<matplotlib.figure.Figure at 0x1a20909320>"
      ]
     },
     "metadata": {},
     "output_type": "display_data"
    },
    {
     "name": "stdout",
     "output_type": "stream",
     "text": [
      "Test Score 0.8111111111111111\n"
     ]
    }
   ],
   "source": [
    "plt.rcParams['figure.figsize'] = (6.0, 6.0)\n",
    "\n",
    "from sklearn.metrics import confusion_matrix\n",
    "\n",
    "labels=['functional','functional needs repair','non functional']\n",
    "def plot_confusion_matrix(cm, title='Confusion matrix', cmap=plt.cm.Blues):\n",
    "    plt.imshow(cm, interpolation='nearest', cmap=cmap)\n",
    "    plt.title(title)\n",
    "    plt.colorbar(shrink=0.7)\n",
    "    tick_marks = np.arange(len(labels))\n",
    "    plt.xticks(tick_marks, labels, rotation=45, ha='right', fontsize=12)\n",
    "    plt.yticks(tick_marks, labels , fontsize=12)\n",
    "    plt.tight_layout()\n",
    "    plt.ylabel('True label', fontsize=12)\n",
    "    plt.xlabel('Predicted label', fontsize=12)\n",
    "\n",
    "\n",
    "# Compute confusion matrix\n",
    "cm = confusion_matrix(y_test, m_etc.predict(X_test))\n",
    "np.set_printoptions(precision=2)\n",
    "print('Confusion matrix, without normalization')\n",
    "print(cm)\n",
    "plt.figure()\n",
    "plot_confusion_matrix(cm)\n",
    "\n",
    "# Normalize the confusion matrix by row (i.e by the number of samples in each class)\n",
    "cm_normalized = cm.astype('float') / cm.sum(axis=1)[:, np.newaxis]\n",
    "print('Normalized confusion matrix')\n",
    "print(cm_normalized)\n",
    "plt.figure()\n",
    "plot_confusion_matrix(cm_normalized, title='Normalized confusion matrix')\n",
    "\n",
    "plt.show()\n",
    "print ('Test Score', cm.diagonal().sum()/float(cm.sum()))"
   ]
  },
  {
   "cell_type": "code",
   "execution_count": 55,
   "metadata": {},
   "outputs": [],
   "source": [
    "# prediction\n",
    "etc_preds = m_etc.predict(test_dum)"
   ]
  },
  {
   "cell_type": "code",
   "execution_count": 56,
   "metadata": {},
   "outputs": [],
   "source": [
    "# convert to CSV for submission \n",
    "ETC = pd.DataFrame(etc_preds)\n",
    "ETC.to_csv('etc_3.csv', index = False)"
   ]
  }
 ],
 "metadata": {
  "kernelspec": {
   "display_name": "Python 3",
   "language": "python",
   "name": "python3"
  },
  "language_info": {
   "codemirror_mode": {
    "name": "ipython",
    "version": 3
   },
   "file_extension": ".py",
   "mimetype": "text/x-python",
   "name": "python",
   "nbconvert_exporter": "python",
   "pygments_lexer": "ipython3",
   "version": "3.6.4"
  }
 },
 "nbformat": 4,
 "nbformat_minor": 2
}
